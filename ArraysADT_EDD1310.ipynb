{
  "nbformat": 4,
  "nbformat_minor": 0,
  "metadata": {
    "colab": {
      "name": "ArraysADT_EDD1310.ipynb",
      "provenance": [],
      "collapsed_sections": [],
      "authorship_tag": "ABX9TyP6C4cES/47hJ0kjjFyN87T",
      "include_colab_link": true
    },
    "kernelspec": {
      "name": "python3",
      "display_name": "Python 3"
    },
    "language_info": {
      "name": "python"
    }
  },
  "cells": [
    {
      "cell_type": "markdown",
      "metadata": {
        "id": "view-in-github",
        "colab_type": "text"
      },
      "source": [
        "<a href=\"https://colab.research.google.com/github/XimenaEstudilloG/Tarea5-Array/blob/main/ArraysADT_EDD1310.ipynb\" target=\"_parent\"><img src=\"https://colab.research.google.com/assets/colab-badge.svg\" alt=\"Open In Colab\"/></a>"
      ]
    },
    {
      "cell_type": "code",
      "metadata": {
        "colab": {
          "base_uri": "https://localhost:8080/"
        },
        "id": "m3Np7TrtfiDo",
        "outputId": "063f0daf-3a7e-4e47-8159-623597c64313"
      },
      "source": [
        "class Array:\n",
        "    def __init__( self , tam ):\n",
        "        self.__tamanio = tam\n",
        "        self.__data = [ 0 for x in range( self.__tamanio ) ]\n",
        "\n",
        "    def to_string(self):\n",
        "        info = \"\"\n",
        "        for dato in self.__data:\n",
        "            info = info + str(dato) + \"|\"\n",
        "        return info   \n",
        "    \n",
        "    def get_item( self , index ):\n",
        "        return self.__data[index]\n",
        "\n",
        "    def get_length( self ):\n",
        "        return len( self.__data )\n",
        "\n",
        "    def set_item( self , dato , index):\n",
        "        if index >= 0 and index < self.get_length():\n",
        "            self.__data[index] = dato\n",
        "        else:\n",
        "            print(\"Error: Indice fuera de rango\")\n",
        "\n",
        "    def clear( self , dato):\n",
        "        self.__data = [ dato for x in range( self.__tamanio ) ]\n",
        "\n",
        "\n",
        "ejemplo = Array(20)\n",
        "print( ejemplo.to_string() )\n",
        "print( ejemplo.get_item(2) )\n",
        "ejemplo.set_item(45, 2 )\n",
        "print( ejemplo.to_string() )\n",
        "ejemplo.clear( 4 )\n",
        "print( ejemplo.to_string() )\n",
        "print( ejemplo.get_length())"
      ],
      "execution_count": null,
      "outputs": [
        {
          "output_type": "stream",
          "name": "stdout",
          "text": [
            "0|0|0|0|0|0|0|0|0|0|0|0|0|0|0|0|0|0|0|0|\n",
            "0\n",
            "0|0|45|0|0|0|0|0|0|0|0|0|0|0|0|0|0|0|0|0|\n",
            "4|4|4|4|4|4|4|4|4|4|4|4|4|4|4|4|4|4|4|4|\n",
            "20\n"
          ]
        }
      ]
    },
    {
      "cell_type": "markdown",
      "metadata": {
        "id": "Rt2KAhNPlK0g"
      },
      "source": [
        ""
      ]
    },
    {
      "cell_type": "code",
      "metadata": {
        "colab": {
          "base_uri": "https://localhost:8080/"
        },
        "id": "lLKypG8cg8M1",
        "outputId": "12418a2f-770e-4ef4-9391-a116d15502b0"
      },
      "source": [
        "lista = [ 3 * x for x in range(10) ]\n",
        "print(lista)"
      ],
      "execution_count": null,
      "outputs": [
        {
          "output_type": "stream",
          "name": "stdout",
          "text": [
            "[0, 3, 6, 9, 12, 15, 18, 21, 24, 27]\n"
          ]
        }
      ]
    },
    {
      "cell_type": "code",
      "metadata": {
        "colab": {
          "base_uri": "https://localhost:8080/"
        },
        "id": "rDZYHhvflsKs",
        "outputId": "a727aa87-760f-4f98-a64f-0a8186bee097"
      },
      "source": [
        "!cat junio.dat"
      ],
      "execution_count": null,
      "outputs": [
        {
          "output_type": "stream",
          "name": "stdout",
          "text": [
            "numero de trabajador, nombres, paterno, materno, horas extra, sueldo base, año de ingreso\r\n",
            "2345,CARLOS,PEREZ,CASTILLO,0,9850,2017\r\n",
            "5754,ANGEL,GOMEZ,GARRIDO,1,9850,2020\r\n",
            "5345,JESUS,MARTIN,SANTOS,2,9850,2016\r\n",
            "3267,DAVID,JIMENEZ,LOZANO,2,9850,2017\r\n",
            "8765,PEDRO,RUIZ,GUERRERO,2,9850,2017\r\n",
            "5454,DANIEL,HERNANDEZ,CANO,3,9850,2018\r\n",
            "3456,ALEJANDRO,DIAZ,PRIETO,2,9850,2018\r\n",
            "3445,MARIA,MORENO,MENDEZ,1,9850,2018\r\n",
            "9088,ALBERTO,MU�OZ,CRUZ,1,9850,2017\r\n",
            "8877,RAFAEL,ALVAREZ,FLORES,2,9850,2017\r\n",
            "6767,FERNANDO,ROMERO,HERRERA,4,9850,2019\r\n",
            "5654,PABLO,ALONSO,GALLEGO,1,9850,2019\r\n",
            "4323,JORGE,GUTIERREZ,MARQUEZ,2,9850,2020\r\n",
            "2232,RAMON,NAVARRO,LEON,1,9850,2016"
          ]
        }
      ]
    },
    {
      "cell_type": "code",
      "metadata": {
        "colab": {
          "base_uri": "https://localhost:8080/"
        },
        "id": "A_20X_Nqm9mm",
        "outputId": "259e564f-3723-4567-9cd1-416857f61560"
      },
      "source": [
        "archivo = open('junio.dat', 'rt', encoding='latin-1')\n",
        "print(archivo.read())"
      ],
      "execution_count": null,
      "outputs": [
        {
          "output_type": "stream",
          "name": "stdout",
          "text": [
            "numero de trabajador, nombres, paterno, materno, horas extra, sueldo base, aÃ±o de ingreso\n",
            "2345,CARLOS,PEREZ,CASTILLO,0,9850,2017\n",
            "5754,ANGEL,GOMEZ,GARRIDO,1,9850,2020\n",
            "5345,JESUS,MARTIN,SANTOS,2,9850,2016\n",
            "3267,DAVID,JIMENEZ,LOZANO,2,9850,2017\n",
            "8765,PEDRO,RUIZ,GUERRERO,2,9850,2017\n",
            "5454,DANIEL,HERNANDEZ,CANO,3,9850,2018\n",
            "3456,ALEJANDRO,DIAZ,PRIETO,2,9850,2018\n",
            "3445,MARIA,MORENO,MENDEZ,1,9850,2018\n",
            "9088,ALBERTO,MUOZ,CRUZ,1,9850,2017\n",
            "8877,RAFAEL,ALVAREZ,FLORES,2,9850,2017\n",
            "6767,FERNANDO,ROMERO,HERRERA,4,9850,2019\n",
            "5654,PABLO,ALONSO,GALLEGO,1,9850,2019\n",
            "4323,JORGE,GUTIERREZ,MARQUEZ,2,9850,2020\n",
            "2232,RAMON,NAVARRO,LEON,1,9850,2016\n"
          ]
        }
      ]
    },
    {
      "cell_type": "code",
      "metadata": {
        "id": "I13XvkYxn6FJ",
        "colab": {
          "base_uri": "https://localhost:8080/",
          "height": 135
        },
        "outputId": "8a0fc8b7-2e57-45fe-be5e-a3e496dd6909"
      },
      "source": [
        "class Trabajador:\n",
        "    def __init__(self, nt, nom, pat, mat, he, sb, ai):\n",
        "        self.__numero_trabajador = nt\n",
        "        self.__nombre = nom\n",
        "        self.__apellido_paterno = pat\n",
        "        self.__apellido_materno = mat\n",
        "        self.__horas_extra = he\n",
        "        self.__sueldo_base = sb\n",
        "        self.__anio_de_ingreso = ai\n",
        "\n",
        "    def to_string( self ):\n",
        "        return \"No. de trabajador:\" + str(self.__numero_trabajador) + \"Nombre:\" + self.__nombre + \"Apellido Paterno:\" + self.__apellido_paterno + \"Apellido Materno:\" + self.__apellido_materno + \"Horas extra:\" + str(self.__horas_extra) + \"Sueldo base:\" + str(self.__sueldo_base) + \"Año de ingreso:\" + str(self.__anio_de_ingreso)\n",
        "    \n",
        "    def set_numero_trabajador( self , nt):\n",
        "        self.__numero_trabajador = nt\n",
        "\n",
        "    def get_numero_trabajador( self ):\n",
        "        return self.__numero_trabajador \n",
        "\n",
        "    def set_nombre( self , nom):\n",
        "        self.__nombre = nom\n",
        "\n",
        "    def get_numero_trabajador( self ):\n",
        "        return self.__nombre   \n",
        "\n",
        "    def apellido_paterno( self , pat):\n",
        "        self.__apellido_paterno = pat\n",
        "\n",
        "    def get_apellido_paterno( self ):\n",
        "        return self.__apellido_paterno  \n",
        "\n",
        "    def set_apellido_materno( self , mat):\n",
        "        self.__apellido_materno = mat\n",
        "\n",
        "    def get_apellido_materno( self ):\n",
        "        return self.__apellido_materno \n",
        "\n",
        "    def set_horas_extra( self , he):\n",
        "        self.__horas_extra = he\n",
        "\n",
        "    def get_horas_extra( self ):\n",
        "        return self.__horas_extra\n",
        "\n",
        "    def set_sueldo_base( self , sb):\n",
        "        self.__sueldo_base = sb\n",
        "\n",
        "    def get_sueldo_base( self ):\n",
        "        return self.__sueldo_base\n",
        "\n",
        "    def set_anio_de_ingreso( self , ai):\n",
        "        self.__anio_de_ingreso = ai\n",
        "\n",
        "    def get_anio_de_ingreso( self ):\n",
        "        return self.__anio_de_ingreso\n",
        "\n",
        "    def calcular_sueldo_mensual( self ):\n",
        "        anios = 2021 - self.get_anio_de_ingreso()\n",
        "\n",
        "        sueldo = self.get_sueldo_base()\n",
        "        #agregarle horas extra\n",
        "        sueldo += self.__get_horas_extra() * 276.5\n",
        "        #agregar prestaciones por antiguedad\n",
        "        sueldo = sueldo + ( sueldo * anios * 0.03 )\n",
        "\n",
        "    def to_string( self ):\n",
        "        return \"Nombre:\" + self.__nombre + str(self.calcular_sueldo_mensual())\n",
        "\n",
        "    def calcular_antiguedad( self ):\n",
        "            return 2021 = self.get_anio_de_ingreso()\n",
        "\n",
        "emp = Trabajador(2345, 'Carlos' , 'Perez' , 'Castillo' , 1 , 9850 , 2017)\n",
        "print(emp.get_sueldo_base())\n",
        "print(emp.get_horas_extra())\n",
        "print(emp.calcular_antiguedad())\n",
        "print(emp.to_string())\n"
      ],
      "execution_count": 1,
      "outputs": [
        {
          "output_type": "error",
          "ename": "SyntaxError",
          "evalue": "ignored",
          "traceback": [
            "\u001b[0;36m  File \u001b[0;32m\"<ipython-input-1-960af5e1c1b0>\"\u001b[0;36m, line \u001b[0;32m69\u001b[0m\n\u001b[0;31m    return 2021 = self.get_anio_de_ingreso()\u001b[0m\n\u001b[0m                ^\u001b[0m\n\u001b[0;31mSyntaxError\u001b[0m\u001b[0;31m:\u001b[0m invalid syntax\n"
          ]
        }
      ]
    },
    {
      "cell_type": "code",
      "metadata": {
        "id": "aZXpkO1IqC2V",
        "colab": {
          "base_uri": "https://localhost:8080/",
          "height": 129
        },
        "outputId": "823bcb93-02ef-43bd-aed8-74c04acc1100"
      },
      "source": [
        "class NominaADT:\n",
        "    def __init__( self , ruta_archivo ):\n",
        "        ruta_archivo = open('junio.dat' , 'rt')\n",
        "        self.__num_empleados = ne\n",
        "        informacion = ruta_archivo.read()\n",
        "        print(informacion)\n",
        "        self.__data = Array \n",
        "\n",
        "    def get_length( self ):\n",
        "        return len( self.__data )\n",
        "\n",
        "    def calcular_sueldos( self ):\n",
        "        #iterar sobre el Array y hacer el calculo de sueldos\n",
        "\n",
        "    def busar_mas_antiguo( self, dato , index):\n",
        "        if index >= 2016 and index < self.get_length():\n",
        "            self.__data[index] = dato\n",
        "        else:\n",
        "            print(\"No es el más antiguo\") \n",
        "\n",
        "    def buscar_menor_antiguedad( self ):\n",
        "        if index > self.get_length(): and index < 2021\n",
        "            self.__data[index] = dato\n",
        "        else:\n",
        "            print(\"Es de los más antiguos\")"
      ],
      "execution_count": null,
      "outputs": [
        {
          "output_type": "error",
          "ename": "IndentationError",
          "evalue": "ignored",
          "traceback": [
            "\u001b[0;36m  File \u001b[0;32m\"<ipython-input-1-fc4136b9cd96>\"\u001b[0;36m, line \u001b[0;32m16\u001b[0m\n\u001b[0;31m    def busar_mas_antiguo( self ):\u001b[0m\n\u001b[0m      ^\u001b[0m\n\u001b[0;31mIndentationError\u001b[0m\u001b[0;31m:\u001b[0m expected an indented block\n"
          ]
        }
      ]
    },
    {
      "cell_type": "code",
      "metadata": {
        "colab": {
          "base_uri": "https://localhost:8080/"
        },
        "id": "g_CU0wSmr55W",
        "outputId": "0ecda635-9d8e-463a-abf1-36c0430b3215"
      },
      "source": [
        "sueldo_base = 100\n",
        "anio_ingreso = 2019\n",
        "antiguedad = 2\n",
        "prestacion = 100 *(2 * 0.03)\n",
        "print(sueldo_base + prestacion)"
      ],
      "execution_count": null,
      "outputs": [
        {
          "output_type": "stream",
          "name": "stdout",
          "text": [
            "106.0\n"
          ]
        }
      ]
    }
  ]
}
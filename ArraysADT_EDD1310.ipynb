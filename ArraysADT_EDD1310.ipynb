{
  "nbformat": 4,
  "nbformat_minor": 0,
  "metadata": {
    "colab": {
      "name": "ArraysADT_EDD1310.ipynb",
      "provenance": [],
      "collapsed_sections": [],
      "authorship_tag": "ABX9TyMUHvMB+0l0jey+Gq4Xn2t+",
      "include_colab_link": true
    },
    "kernelspec": {
      "name": "python3",
      "display_name": "Python 3"
    },
    "language_info": {
      "name": "python"
    }
  },
  "cells": [
    {
      "cell_type": "markdown",
      "metadata": {
        "id": "view-in-github",
        "colab_type": "text"
      },
      "source": [
        "<a href=\"https://colab.research.google.com/github/XimenaEstudilloG/Tarea5-Array/blob/main/ArraysADT_EDD1310.ipynb\" target=\"_parent\"><img src=\"https://colab.research.google.com/assets/colab-badge.svg\" alt=\"Open In Colab\"/></a>"
      ]
    },
    {
      "cell_type": "code",
      "metadata": {
        "colab": {
          "base_uri": "https://localhost:8080/"
        },
        "id": "m3Np7TrtfiDo",
        "outputId": "8a1b6845-5d0a-4186-c7b8-763f3697d100"
      },
      "source": [
        "class Array:\n",
        "    def __init__( self , tam ):\n",
        "        self.__tamanio = tam\n",
        "        self.__data = [ 0 for x in range( self.__tamanio ) ]\n",
        "\n",
        "    def to_string(self):\n",
        "        info = \"\"\n",
        "        for dato in self.__data:\n",
        "            info = info + str(dato) + \"|\"\n",
        "        return info   \n",
        "    \n",
        "    def get_item( self , index ):\n",
        "        return self.__data[index]\n",
        "\n",
        "    def get_length( self ):\n",
        "        return len( self.__data )\n",
        "\n",
        "    def set_item( self , dato , index):\n",
        "        if index >= 0 and index < self.get_length():\n",
        "            self.__data[index] = dato\n",
        "        else:\n",
        "            print(\"Error: Indice fuera de rango\")\n",
        "\n",
        "    def clear( self , dato):\n",
        "        self.__data = [ dato for x in range( self.__tamanio ) ]\n",
        "\n",
        "\n",
        "ejemplo = Array(20)\n",
        "print( ejemplo.to_string() )\n",
        "print( ejemplo.get_item(2) )\n",
        "ejemplo.set_item(45, 2 )\n",
        "print( ejemplo.to_string() )\n",
        "ejemplo.clear( 4 )\n",
        "print( ejemplo.to_string() )\n",
        "print( ejemplo.get_length())"
      ],
      "execution_count": 11,
      "outputs": [
        {
          "output_type": "stream",
          "name": "stdout",
          "text": [
            "0|0|0|0|0|0|0|0|0|0|0|0|0|0|0|0|0|0|0|0|\n",
            "0\n",
            "0|0|45|0|0|0|0|0|0|0|0|0|0|0|0|0|0|0|0|0|\n",
            "4|4|4|4|4|4|4|4|4|4|4|4|4|4|4|4|4|4|4|4|\n",
            "20\n"
          ]
        }
      ]
    },
    {
      "cell_type": "markdown",
      "metadata": {
        "id": "Rt2KAhNPlK0g"
      },
      "source": [
        ""
      ]
    },
    {
      "cell_type": "code",
      "metadata": {
        "colab": {
          "base_uri": "https://localhost:8080/"
        },
        "id": "lLKypG8cg8M1",
        "outputId": "12418a2f-770e-4ef4-9391-a116d15502b0"
      },
      "source": [
        "lista = [ 3 * x for x in range(10) ]\n",
        "print(lista)"
      ],
      "execution_count": null,
      "outputs": [
        {
          "output_type": "stream",
          "name": "stdout",
          "text": [
            "[0, 3, 6, 9, 12, 15, 18, 21, 24, 27]\n"
          ]
        }
      ]
    },
    {
      "cell_type": "code",
      "metadata": {
        "colab": {
          "base_uri": "https://localhost:8080/"
        },
        "id": "rDZYHhvflsKs",
        "outputId": "a727aa87-760f-4f98-a64f-0a8186bee097"
      },
      "source": [
        "!cat junio.dat"
      ],
      "execution_count": null,
      "outputs": [
        {
          "output_type": "stream",
          "name": "stdout",
          "text": [
            "numero de trabajador, nombres, paterno, materno, horas extra, sueldo base, año de ingreso\r\n",
            "2345,CARLOS,PEREZ,CASTILLO,0,9850,2017\r\n",
            "5754,ANGEL,GOMEZ,GARRIDO,1,9850,2020\r\n",
            "5345,JESUS,MARTIN,SANTOS,2,9850,2016\r\n",
            "3267,DAVID,JIMENEZ,LOZANO,2,9850,2017\r\n",
            "8765,PEDRO,RUIZ,GUERRERO,2,9850,2017\r\n",
            "5454,DANIEL,HERNANDEZ,CANO,3,9850,2018\r\n",
            "3456,ALEJANDRO,DIAZ,PRIETO,2,9850,2018\r\n",
            "3445,MARIA,MORENO,MENDEZ,1,9850,2018\r\n",
            "9088,ALBERTO,MU�OZ,CRUZ,1,9850,2017\r\n",
            "8877,RAFAEL,ALVAREZ,FLORES,2,9850,2017\r\n",
            "6767,FERNANDO,ROMERO,HERRERA,4,9850,2019\r\n",
            "5654,PABLO,ALONSO,GALLEGO,1,9850,2019\r\n",
            "4323,JORGE,GUTIERREZ,MARQUEZ,2,9850,2020\r\n",
            "2232,RAMON,NAVARRO,LEON,1,9850,2016"
          ]
        }
      ]
    },
    {
      "cell_type": "code",
      "metadata": {
        "colab": {
          "base_uri": "https://localhost:8080/"
        },
        "id": "A_20X_Nqm9mm",
        "outputId": "b7edc1a4-41a0-4fd8-f665-cc1c0e2d2708"
      },
      "source": [
        "archivo = open('junio.dat', 'rt', encoding='latin-1')\n",
        "print(archivo.read())"
      ],
      "execution_count": 10,
      "outputs": [
        {
          "output_type": "stream",
          "name": "stdout",
          "text": [
            "numero de trabajador, nombres, paterno, materno, horas extra, sueldo base, aÃ±o de ingreso\n",
            "2345,CARLOS,PEREZ,CASTILLO,0,9850,2017\n",
            "5754,ANGEL,GOMEZ,GARRIDO,1,9850,2020\n",
            "5345,JESUS,MARTIN,SANTOS,2,9850,2016\n",
            "3267,DAVID,JIMENEZ,LOZANO,2,9850,2017\n",
            "8765,PEDRO,RUIZ,GUERRERO,2,9850,2017\n",
            "5454,DANIEL,HERNANDEZ,CANO,3,9850,2018\n",
            "3456,ALEJANDRO,DIAZ,PRIETO,2,9850,2018\n",
            "3445,MARIA,MORENO,MENDEZ,1,9850,2018\n",
            "9088,ALBERTO,MUOZ,CRUZ,1,9850,2017\n",
            "8877,RAFAEL,ALVAREZ,FLORES,2,9850,2017\n",
            "6767,FERNANDO,ROMERO,HERRERA,4,9850,2019\n",
            "5654,PABLO,ALONSO,GALLEGO,1,9850,2019\n",
            "4323,JORGE,GUTIERREZ,MARQUEZ,2,9850,2020\n",
            "2232,RAMON,NAVARRO,LEON,1,9850,2016\n"
          ]
        }
      ]
    },
    {
      "cell_type": "code",
      "metadata": {
        "id": "I13XvkYxn6FJ",
        "colab": {
          "base_uri": "https://localhost:8080/"
        },
        "outputId": "47f4359d-142b-4d59-f1e9-0f61f121fdc0"
      },
      "source": [
        "class Trabajador:\n",
        "    def __init__(self, nt, nom, pat, mat, he, sb, ai):\n",
        "        self.__numero_trabajador = nt\n",
        "        self.__nombre = nom\n",
        "        self.__apellido_paterno = pat\n",
        "        self.__apellido_materno = mat\n",
        "        self.__horas_extra = he\n",
        "        self.__sueldo_base = sb\n",
        "        self.__anio_de_ingreso = ai\n",
        "\n",
        "    def to_string( self ):\n",
        "        return \"No. de trabajador:\" + str(self.__numero_trabajador) + \"Nombre:\" + self.__nombre + \"Apellido Paterno:\" + self.__apellido_paterno + \"Apellido Materno:\" + self.__apellido_materno + \"Horas extra:\" + str(self.__horas_extra) + \"Sueldo base:\" + str(self.__sueldo_base) + \"Año de ingreso:\" + str(self.__anio_de_ingreso)\n",
        "    \n",
        "    def set_numero_trabajador( self , nt):\n",
        "        self.__numero_trabajador = nt\n",
        "\n",
        "    def get_numero_trabajador( self ):\n",
        "        return self.__numero_trabajador \n",
        "\n",
        "    def set_nombre( self , nom):\n",
        "        self.__nombre = nom\n",
        "\n",
        "    def get_numero_trabajador( self ):\n",
        "        return self.__nombre   \n",
        "\n",
        "    def set_apellido_paterno( self , pat):\n",
        "        self.__apellido_paterno = pat\n",
        "\n",
        "    def get_apellido_paterno( self ):\n",
        "        return self.__apellido_paterno  \n",
        "\n",
        "    def set_apellido_materno( self , mat):\n",
        "        self.__apellido_materno = mat\n",
        "\n",
        "    def get_apellido_materno( self ):\n",
        "        return self.__apellido_materno \n",
        "\n",
        "    def set_horas_extra( self , he):\n",
        "        self.__horas_extra = he\n",
        "\n",
        "    def get_horas_extra( self ):\n",
        "        return self.__horas_extra\n",
        "\n",
        "    def set_sueldo_base( self , sb):\n",
        "        self.__sueldo_base = sb\n",
        "\n",
        "    def get_sueldo_base( self ):\n",
        "        return self.__sueldo_base\n",
        "\n",
        "    def set_anio_de_ingreso( self , ai):\n",
        "        self.__anio_de_ingreso = ai\n",
        "\n",
        "    def get_anio_de_ingreso( self ):\n",
        "        return self.__anio_de_ingreso\n",
        "\n",
        "    def calcular_sueldo_mensual( self ):\n",
        "        anios = 2021 - self.get_anio_de_ingreso()\n",
        "\n",
        "        sueldo = self.get_sueldo_base()\n",
        "        #agregarle horas extra\n",
        "        sueldo += self.get_horas_extra() * 276.5\n",
        "        #agregar prestaciones por antiguedad\n",
        "        sueldo = sueldo + ( sueldo * anios * 0.03 )\n",
        "        return sueldo\n",
        "\n",
        "    def calcular_antiguedad( self ):\n",
        "        ant = 2021 - self.get_anio_de_ingreso()\n",
        "\n",
        "        antiguedadd = self.get_anio_de_ingreso()\n",
        "        antiguedadd = 2021 - self.get_anio_de_ingreso()\n",
        "        return antiguedadd\n",
        "\n",
        "    def to_string( self ):\n",
        "        return \"Número de trabajador: \" + str(self.__numero_trabajador) + \" --> \" + \"Nombre: \" + self.__nombre + \" \" + self.__apellido_paterno + \" \" + self.__apellido_materno + \" --> \" + \" Sueldo: $\" + str(self.calcular_sueldo_mensual()) + \" pesos. \" + \" --> \" + \"Su antigüedad es de: \" + str(self.calcular_antiguedad()) + \" años. \"\n",
        "\n",
        "    def calcular_antiguedad(self):\n",
        "        return 2021 - self.get_anio_de_ingreso()\n",
        "\n",
        "    def mayor_antiguedad(self):\n",
        "        return \"El empleado que tiene más antiguedad es: \" + self.__nombre + \" \" + self.__apellido_paterno + \" \" + self.__apellido_materno + \" --> \" + \" Su antigüedad es de: \" + str(self.calcular_antiguedad()) + \" años.\"\n",
        "\n",
        "    def menor_antiguedad(self):\n",
        "        return \"El empleado que tiene menos antiguedad es: \" + self.__nombre + \" \" + self.__apellido_paterno + \" \" + self.__apellido_materno + \" --> \" + \" Su antigúedad es de: \" + str(self.calcular_antiguedad()) + \" años.\"\n",
        "\n",
        "emp = Trabajador(2345, 'Carlos' , 'Perez' , 'Castillo' , 1 , 9850 , 2017)\n",
        "print(emp.get_sueldo_base())\n",
        "print(emp.get_horas_extra())\n",
        "print(emp.calcular_antiguedad())\n",
        "print(emp.to_string())"
      ],
      "execution_count": 50,
      "outputs": [
        {
          "output_type": "stream",
          "name": "stdout",
          "text": [
            "9850\n",
            "1\n",
            "4\n",
            "Número de trabajador: 2345 --> Nombre: Carlos Perez Castillo -->  Sueldo: $11341.68 pesos.  --> Su antigüedad es de: 4 años. \n"
          ]
        }
      ]
    },
    {
      "cell_type": "code",
      "metadata": {
        "id": "aZXpkO1IqC2V",
        "colab": {
          "base_uri": "https://localhost:8080/",
          "height": 480
        },
        "outputId": "c63fb82d-7344-4acf-c55e-74fb94bae6ed"
      },
      "source": [
        "class NominaADT:\n",
        "    def __init__( self , ruta_archivo ):\n",
        "        archivo = open(ruta_archivo , 'rt' , encoding='latin-1')\n",
        "        empleados = archivo.readlines()\n",
        "        del empleados[0]\n",
        "        for index in range(len(empleados)):\n",
        "            empleados[index] = empleados[index].strip().split(',')\n",
        "        \n",
        "        self.__data = Array( len(empleados) )\n",
        "        cont = 0\n",
        "\n",
        "        for emp in empleados:\n",
        "            trp = Trabajador( int(emp[0]) , emp[1] , emp[2] , emp[3] , int(emp[4]) , int(emp[5]) , int(emp[6]) )\n",
        "            self.__data.set_item( trp , cont)\n",
        "            cont += 1\n",
        "\n",
        "    def calcular_sueldos( self ):\n",
        "        for index in range(self.__data.get_length()):\n",
        "            print(self.__data.get_item(index).to_string() )\n",
        "\n",
        "    def buscar_mayor_antiguedad( self, dato , index):\n",
        "        for index in range(self.__data.get_length()):\n",
        "            if mayor.calcular_antiguedad() < menor.calcular_antiguedad():\n",
        "                mayor = menor\n",
        "                menor = self.__data.get_item(index)\n",
        "            else:\n",
        "                menor = self.__data.get_item(index)\n",
        "        print(mayor.mayor_antiguedad())\n",
        " \n",
        "    def buscar_menor_antiguedad( self ):\n",
        "        for index in range(self.__data.get_length()):\n",
        "            if mayor.calcular_antiguedad() < menor.calcular_antiguedad():\n",
        "                menor = mayor\n",
        "                mayor = self.__data.get_item(index)\n",
        "            else:\n",
        "                mayor = self.__data.get_item(index)\n",
        "        print(menor.menor_antiguedad())\n",
        "\n",
        "ejemplo = NominaADT('junio.dat')\n",
        "ejemplo.calcular_sueldos()\n",
        "ejemplo.buscar_mayor_antiguedad()\n",
        "ejemplo.buscar_menor_antiguedad()"
      ],
      "execution_count": 62,
      "outputs": [
        {
          "output_type": "stream",
          "name": "stdout",
          "text": [
            "Número de trabajador: 2345 --> Nombre: CARLOS PEREZ CASTILLO -->  Sueldo: $11032.0 pesos.  --> Su antigüedad es de: 4 años. \n",
            "Número de trabajador: 5754 --> Nombre: ANGEL GOMEZ GARRIDO -->  Sueldo: $10430.295 pesos.  --> Su antigüedad es de: 1 años. \n",
            "Número de trabajador: 5345 --> Nombre: JESUS MARTIN SANTOS -->  Sueldo: $11963.45 pesos.  --> Su antigüedad es de: 5 años. \n",
            "Número de trabajador: 3267 --> Nombre: DAVID JIMENEZ LOZANO -->  Sueldo: $11651.36 pesos.  --> Su antigüedad es de: 4 años. \n",
            "Número de trabajador: 8765 --> Nombre: PEDRO RUIZ GUERRERO -->  Sueldo: $11651.36 pesos.  --> Su antigüedad es de: 4 años. \n",
            "Número de trabajador: 5454 --> Nombre: DANIEL HERNANDEZ CANO -->  Sueldo: $11640.655 pesos.  --> Su antigüedad es de: 3 años. \n",
            "Número de trabajador: 3456 --> Nombre: ALEJANDRO DIAZ PRIETO -->  Sueldo: $11339.27 pesos.  --> Su antigüedad es de: 3 años. \n",
            "Número de trabajador: 3445 --> Nombre: MARIA MORENO MENDEZ -->  Sueldo: $11037.885 pesos.  --> Su antigüedad es de: 3 años. \n",
            "Número de trabajador: 9088 --> Nombre: ALBERTO MUOZ CRUZ -->  Sueldo: $11341.68 pesos.  --> Su antigüedad es de: 4 años. \n",
            "Número de trabajador: 8877 --> Nombre: RAFAEL ALVAREZ FLORES -->  Sueldo: $11651.36 pesos.  --> Su antigüedad es de: 4 años. \n",
            "Número de trabajador: 6767 --> Nombre: FERNANDO ROMERO HERRERA -->  Sueldo: $11613.36 pesos.  --> Su antigüedad es de: 2 años. \n",
            "Número de trabajador: 5654 --> Nombre: PABLO ALONSO GALLEGO -->  Sueldo: $10734.09 pesos.  --> Su antigüedad es de: 2 años. \n",
            "Número de trabajador: 4323 --> Nombre: JORGE GUTIERREZ MARQUEZ -->  Sueldo: $10715.09 pesos.  --> Su antigüedad es de: 1 años. \n",
            "Número de trabajador: 2232 --> Nombre: RAMON NAVARRO LEON -->  Sueldo: $11645.475 pesos.  --> Su antigüedad es de: 5 años. \n"
          ]
        },
        {
          "output_type": "error",
          "ename": "TypeError",
          "evalue": "ignored",
          "traceback": [
            "\u001b[0;31m---------------------------------------------------------------------------\u001b[0m",
            "\u001b[0;31mTypeError\u001b[0m                                 Traceback (most recent call last)",
            "\u001b[0;32m<ipython-input-62-f081b25ffb0e>\u001b[0m in \u001b[0;36m<module>\u001b[0;34m()\u001b[0m\n\u001b[1;32m     41\u001b[0m \u001b[0mejemplo\u001b[0m \u001b[0;34m=\u001b[0m \u001b[0mNominaADT\u001b[0m\u001b[0;34m(\u001b[0m\u001b[0;34m'junio.dat'\u001b[0m\u001b[0;34m)\u001b[0m\u001b[0;34m\u001b[0m\u001b[0;34m\u001b[0m\u001b[0m\n\u001b[1;32m     42\u001b[0m \u001b[0mejemplo\u001b[0m\u001b[0;34m.\u001b[0m\u001b[0mcalcular_sueldos\u001b[0m\u001b[0;34m(\u001b[0m\u001b[0;34m)\u001b[0m\u001b[0;34m\u001b[0m\u001b[0;34m\u001b[0m\u001b[0m\n\u001b[0;32m---> 43\u001b[0;31m \u001b[0mejemplo\u001b[0m\u001b[0;34m.\u001b[0m\u001b[0mbuscar_mayor_antiguedad\u001b[0m\u001b[0;34m(\u001b[0m\u001b[0;34m)\u001b[0m\u001b[0;34m\u001b[0m\u001b[0;34m\u001b[0m\u001b[0m\n\u001b[0m\u001b[1;32m     44\u001b[0m \u001b[0mejemplo\u001b[0m\u001b[0;34m.\u001b[0m\u001b[0mbuscar_menor_antiguedad\u001b[0m\u001b[0;34m(\u001b[0m\u001b[0;34m)\u001b[0m\u001b[0;34m\u001b[0m\u001b[0;34m\u001b[0m\u001b[0m\n",
            "\u001b[0;31mTypeError\u001b[0m: buscar_mayor_antiguedad() missing 2 required positional arguments: 'dato' and 'index'"
          ]
        }
      ]
    },
    {
      "cell_type": "code",
      "metadata": {
        "colab": {
          "base_uri": "https://localhost:8080/"
        },
        "id": "g_CU0wSmr55W",
        "outputId": "0ecda635-9d8e-463a-abf1-36c0430b3215"
      },
      "source": [
        "sueldo_base = 100\n",
        "anio_ingreso = 2019\n",
        "antiguedad = 2\n",
        "prestacion = 100 *(2 * 0.03)\n",
        "print(sueldo_base + prestacion)"
      ],
      "execution_count": null,
      "outputs": [
        {
          "output_type": "stream",
          "name": "stdout",
          "text": [
            "106.0\n"
          ]
        }
      ]
    }
  ]
}